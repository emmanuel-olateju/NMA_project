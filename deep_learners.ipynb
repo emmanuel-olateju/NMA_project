{
 "cells": [
  {
   "cell_type": "code",
   "execution_count": 5,
   "metadata": {},
   "outputs": [],
   "source": [
    "import numpy as np\n",
    "import pandas as pd\n",
    "import pickle\n",
    "import torch\n",
    "from torch import nn"
   ]
  },
  {
   "cell_type": "code",
   "execution_count": 6,
   "metadata": {},
   "outputs": [],
   "source": [
    "bg_file=open('data_results/bg_cs_data.sav','rb')\n",
    "bg_cs_data=pickle.load(bg_file)\n",
    "bg_file.close()\n",
    "\n",
    "bg_file=open('data_results/bg_hp_data.sav','rb')\n",
    "bg_hp_data=pickle.load(bg_file)\n",
    "bg_file.close()\n",
    "\n",
    "bg_file=open('data_results/bg_mb_data.sav','rb')\n",
    "bg_mb_data=pickle.load(bg_file)\n",
    "bg_file.close()\n",
    "\n",
    "bg_file=open('data_results/bg_nc_data.sav','rb')\n",
    "bg_nc_data=pickle.load(bg_file)\n",
    "bg_file.close()\n",
    "\n",
    "bg_file=open('data_results/bg_th_data.sav','rb')\n",
    "bg_th_data=pickle.load(bg_file)\n",
    "bg_file.close()\n",
    "\n",
    "bg_file=open('data_results/bg_vc_data.sav','rb')\n",
    "bg_vc_data=pickle.load(bg_file)\n",
    "bg_file.close()"
   ]
  },
  {
   "cell_type": "code",
   "execution_count": 24,
   "metadata": {},
   "outputs": [],
   "source": [
    "# bg_cs_data['actv'][0]"
   ]
  },
  {
   "cell_type": "code",
   "execution_count": 7,
   "metadata": {},
   "outputs": [],
   "source": [
    "bg_or_data=[bg_cs_data, bg_hp_data, bg_mb_data, bg_nc_data, bg_th_data, bg_vc_data]"
   ]
  },
  {
   "cell_type": "code",
   "execution_count": 54,
   "metadata": {},
   "outputs": [],
   "source": [
    "def stack_arrays_in_list(data_list=None):\n",
    "    arr=np.array([])\n",
    "    for data in data_list:\n",
    "        if data.size!=0:\n",
    "            if arr.size==0:\n",
    "                arr=data\n",
    "            else:\n",
    "                arr=np.vstack((arr,data))\n",
    "    return arr\n",
    "        \n",
    "def ei_unit_vector_computer(active_data,passive_data):\n",
    "    active=np.mean(active_data,0)\n",
    "    passive=np.mean(passive_data,0)\n",
    "    return (active-passive)/np.linalg.norm(active-passive)"
   ]
  },
  {
   "cell_type": "code",
   "execution_count": 56,
   "metadata": {},
   "outputs": [
    {
     "data": {
      "text/plain": [
       "(250,)"
      ]
     },
     "execution_count": 56,
     "metadata": {},
     "output_type": "execute_result"
    }
   ],
   "source": [
    "ei_unit_vector_computer(\n",
    "    stack_arrays_in_list(bg_vc_data['actv'][0]),\n",
    "    stack_arrays_in_list(bg_vc_data['psv'][0])\n",
    ").shape"
   ]
  },
  {
   "cell_type": "code",
   "execution_count": 57,
   "metadata": {},
   "outputs": [
    {
     "data": {
      "text/plain": [
       "(250,)"
      ]
     },
     "execution_count": 57,
     "metadata": {},
     "output_type": "execute_result"
    }
   ],
   "source": [
    "ei_unit_vector_computer(\n",
    "    stack_arrays_in_list(bg_vc_data['actv'][1]),\n",
    "    stack_arrays_in_list(bg_vc_data['psv'][1])\n",
    ").shape"
   ]
  },
  {
   "cell_type": "code",
   "execution_count": null,
   "metadata": {},
   "outputs": [],
   "source": []
  }
 ],
 "metadata": {
  "kernelspec": {
   "display_name": "Python 3.9.13 ('base')",
   "language": "python",
   "name": "python3"
  },
  "language_info": {
   "codemirror_mode": {
    "name": "ipython",
    "version": 3
   },
   "file_extension": ".py",
   "mimetype": "text/x-python",
   "name": "python",
   "nbconvert_exporter": "python",
   "pygments_lexer": "ipython3",
   "version": "3.9.13"
  },
  "orig_nbformat": 4,
  "vscode": {
   "interpreter": {
    "hash": "af8259ad5c1c9c7a69bd6ea085234cf8fd3a6a37a71ca551828b314c4d89b0ad"
   }
  }
 },
 "nbformat": 4,
 "nbformat_minor": 2
}
